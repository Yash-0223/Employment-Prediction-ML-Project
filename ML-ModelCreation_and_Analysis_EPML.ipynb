{
 "cells": [
  {
   "cell_type": "code",
   "execution_count": 1,
   "id": "6d2a3c2c",
   "metadata": {},
   "outputs": [],
   "source": [
    "# Importing libraries and modules of Python Required for Creating ML Models and their Analysis:\n",
    "\n",
    "import pandas as pd\n",
    "import numpy as np\n",
    "import matplotlib.pyplot as plt\n",
    "import seaborn as sns\n",
    "%matplotlib inline\n",
    "\n",
    "from sklearn.model_selection import train_test_split\n",
    "from sklearn.preprocessing import StandardScaler\n",
    "from sklearn.linear_model import LinearRegression, LogisticRegression\n",
    "from sklearn.tree import DecisionTreeClassifier\n",
    "from sklearn.ensemble import RandomForestClassifier\n",
    "from sklearn import metrics"
   ]
  },
  {
   "cell_type": "code",
   "execution_count": 2,
   "id": "07e58012",
   "metadata": {},
   "outputs": [],
   "source": [
    "# Importing the cleaned data from CSV File found after Data Cleaning:\n",
    "\n",
    "df = pd.read_csv(\"C:/Users/Yash/Downloads/Employment_Prediction_ML_Project.csv\")"
   ]
  },
  {
   "cell_type": "code",
   "execution_count": 3,
   "id": "8100bb5b",
   "metadata": {},
   "outputs": [
    {
     "data": {
      "text/html": [
       "<div>\n",
       "<style scoped>\n",
       "    .dataframe tbody tr th:only-of-type {\n",
       "        vertical-align: middle;\n",
       "    }\n",
       "\n",
       "    .dataframe tbody tr th {\n",
       "        vertical-align: top;\n",
       "    }\n",
       "\n",
       "    .dataframe thead th {\n",
       "        text-align: right;\n",
       "    }\n",
       "</style>\n",
       "<table border=\"1\" class=\"dataframe\">\n",
       "  <thead>\n",
       "    <tr style=\"text-align: right;\">\n",
       "      <th></th>\n",
       "      <th>Gender</th>\n",
       "      <th>SSC_Per</th>\n",
       "      <th>SSC_Board</th>\n",
       "      <th>HSC_Per</th>\n",
       "      <th>HSC_Board</th>\n",
       "      <th>HSC_Stream</th>\n",
       "      <th>Degree_Per</th>\n",
       "      <th>Degree_Stream</th>\n",
       "      <th>Work_Exp</th>\n",
       "      <th>Entrance_Perc</th>\n",
       "      <th>Specialisation</th>\n",
       "      <th>MBA_Per</th>\n",
       "      <th>Status</th>\n",
       "      <th>Salary</th>\n",
       "    </tr>\n",
       "  </thead>\n",
       "  <tbody>\n",
       "    <tr>\n",
       "      <th>0</th>\n",
       "      <td>M</td>\n",
       "      <td>67.00</td>\n",
       "      <td>Others</td>\n",
       "      <td>91.00</td>\n",
       "      <td>Others</td>\n",
       "      <td>Commerce</td>\n",
       "      <td>58.00</td>\n",
       "      <td>Sci&amp;Tech</td>\n",
       "      <td>No</td>\n",
       "      <td>55.0</td>\n",
       "      <td>Mkt&amp;HR</td>\n",
       "      <td>58.80</td>\n",
       "      <td>Placed</td>\n",
       "      <td>270000</td>\n",
       "    </tr>\n",
       "    <tr>\n",
       "      <th>1</th>\n",
       "      <td>M</td>\n",
       "      <td>79.33</td>\n",
       "      <td>Central</td>\n",
       "      <td>78.33</td>\n",
       "      <td>Others</td>\n",
       "      <td>Science</td>\n",
       "      <td>77.48</td>\n",
       "      <td>Sci&amp;Tech</td>\n",
       "      <td>Yes</td>\n",
       "      <td>86.5</td>\n",
       "      <td>Mkt&amp;Fin</td>\n",
       "      <td>66.28</td>\n",
       "      <td>Placed</td>\n",
       "      <td>200000</td>\n",
       "    </tr>\n",
       "    <tr>\n",
       "      <th>2</th>\n",
       "      <td>M</td>\n",
       "      <td>65.00</td>\n",
       "      <td>Central</td>\n",
       "      <td>68.00</td>\n",
       "      <td>Central</td>\n",
       "      <td>Arts</td>\n",
       "      <td>64.00</td>\n",
       "      <td>Comm&amp;Mgmt</td>\n",
       "      <td>No</td>\n",
       "      <td>75.0</td>\n",
       "      <td>Mkt&amp;Fin</td>\n",
       "      <td>57.80</td>\n",
       "      <td>Placed</td>\n",
       "      <td>250000</td>\n",
       "    </tr>\n",
       "    <tr>\n",
       "      <th>3</th>\n",
       "      <td>M</td>\n",
       "      <td>56.00</td>\n",
       "      <td>Central</td>\n",
       "      <td>52.00</td>\n",
       "      <td>Central</td>\n",
       "      <td>Science</td>\n",
       "      <td>52.00</td>\n",
       "      <td>Sci&amp;Tech</td>\n",
       "      <td>No</td>\n",
       "      <td>66.0</td>\n",
       "      <td>Mkt&amp;HR</td>\n",
       "      <td>59.43</td>\n",
       "      <td>Not Placed</td>\n",
       "      <td>0</td>\n",
       "    </tr>\n",
       "    <tr>\n",
       "      <th>4</th>\n",
       "      <td>M</td>\n",
       "      <td>85.80</td>\n",
       "      <td>Central</td>\n",
       "      <td>73.60</td>\n",
       "      <td>Central</td>\n",
       "      <td>Commerce</td>\n",
       "      <td>73.30</td>\n",
       "      <td>Comm&amp;Mgmt</td>\n",
       "      <td>No</td>\n",
       "      <td>96.8</td>\n",
       "      <td>Mkt&amp;Fin</td>\n",
       "      <td>55.50</td>\n",
       "      <td>Placed</td>\n",
       "      <td>425000</td>\n",
       "    </tr>\n",
       "  </tbody>\n",
       "</table>\n",
       "</div>"
      ],
      "text/plain": [
       "  Gender  SSC_Per SSC_Board  HSC_Per HSC_Board HSC_Stream  Degree_Per  \\\n",
       "0      M    67.00    Others    91.00    Others   Commerce       58.00   \n",
       "1      M    79.33   Central    78.33    Others    Science       77.48   \n",
       "2      M    65.00   Central    68.00   Central       Arts       64.00   \n",
       "3      M    56.00   Central    52.00   Central    Science       52.00   \n",
       "4      M    85.80   Central    73.60   Central   Commerce       73.30   \n",
       "\n",
       "  Degree_Stream Work_Exp  Entrance_Perc Specialisation  MBA_Per      Status  \\\n",
       "0      Sci&Tech       No           55.0         Mkt&HR    58.80      Placed   \n",
       "1      Sci&Tech      Yes           86.5        Mkt&Fin    66.28      Placed   \n",
       "2     Comm&Mgmt       No           75.0        Mkt&Fin    57.80      Placed   \n",
       "3      Sci&Tech       No           66.0         Mkt&HR    59.43  Not Placed   \n",
       "4     Comm&Mgmt       No           96.8        Mkt&Fin    55.50      Placed   \n",
       "\n",
       "   Salary  \n",
       "0  270000  \n",
       "1  200000  \n",
       "2  250000  \n",
       "3       0  \n",
       "4  425000  "
      ]
     },
     "execution_count": 3,
     "metadata": {},
     "output_type": "execute_result"
    }
   ],
   "source": [
    "df.head()"
   ]
  },
  {
   "cell_type": "markdown",
   "id": "267f8ed5",
   "metadata": {},
   "source": [
    "# Scaling the Numerical columns and Encoding the Categorical Ones:"
   ]
  },
  {
   "cell_type": "code",
   "execution_count": 4,
   "id": "9c6f9c69",
   "metadata": {},
   "outputs": [
    {
     "name": "stdout",
     "output_type": "stream",
     "text": [
      "['SSC_Per', 'HSC_Per', 'Degree_Per', 'Entrance_Perc', 'MBA_Per', 'Salary'] ['Gender', 'SSC_Board', 'HSC_Board', 'HSC_Stream', 'Degree_Stream', 'Work_Exp', 'Specialisation', 'Status']\n"
     ]
    }
   ],
   "source": [
    "# Making lists having names of Numerical and Categorical columns:\n",
    "\n",
    "num = []\n",
    "cat = []\n",
    "\n",
    "for i in df.columns:\n",
    "    if df[i].dtypes == 'O':\n",
    "        cat.append(i)\n",
    "    else:\n",
    "        num.append(i)\n",
    "        \n",
    "print(num,cat)"
   ]
  },
  {
   "cell_type": "code",
   "execution_count": 5,
   "id": "085d0f9f",
   "metadata": {},
   "outputs": [],
   "source": [
    "# Removing Status and Salary from the lists as these are the target variables and need not to be scaled or encoded:\n",
    "\n",
    "num.remove('Salary')\n",
    "cat.remove('Status')"
   ]
  },
  {
   "cell_type": "code",
   "execution_count": 6,
   "id": "3859969e",
   "metadata": {},
   "outputs": [],
   "source": [
    "# Scaling the rest of the numerical columns using Standard Scaler:"
   ]
  },
  {
   "cell_type": "code",
   "execution_count": 7,
   "id": "934e6b60",
   "metadata": {},
   "outputs": [],
   "source": [
    "StSc = StandardScaler()\n",
    "\n",
    "df[num] = StSc.fit_transform(df[num])"
   ]
  },
  {
   "cell_type": "code",
   "execution_count": 8,
   "id": "0d413401",
   "metadata": {},
   "outputs": [
    {
     "data": {
      "text/html": [
       "<div>\n",
       "<style scoped>\n",
       "    .dataframe tbody tr th:only-of-type {\n",
       "        vertical-align: middle;\n",
       "    }\n",
       "\n",
       "    .dataframe tbody tr th {\n",
       "        vertical-align: top;\n",
       "    }\n",
       "\n",
       "    .dataframe thead th {\n",
       "        text-align: right;\n",
       "    }\n",
       "</style>\n",
       "<table border=\"1\" class=\"dataframe\">\n",
       "  <thead>\n",
       "    <tr style=\"text-align: right;\">\n",
       "      <th></th>\n",
       "      <th>SSC_Per</th>\n",
       "      <th>HSC_Per</th>\n",
       "      <th>Degree_Per</th>\n",
       "      <th>Entrance_Perc</th>\n",
       "      <th>MBA_Per</th>\n",
       "    </tr>\n",
       "  </thead>\n",
       "  <tbody>\n",
       "    <tr>\n",
       "      <th>0</th>\n",
       "      <td>-0.014312</td>\n",
       "      <td>2.259695</td>\n",
       "      <td>-1.132160</td>\n",
       "      <td>-1.291192</td>\n",
       "      <td>-0.593321</td>\n",
       "    </tr>\n",
       "    <tr>\n",
       "      <th>1</th>\n",
       "      <td>1.134122</td>\n",
       "      <td>1.099352</td>\n",
       "      <td>1.512604</td>\n",
       "      <td>1.088418</td>\n",
       "      <td>0.693365</td>\n",
       "    </tr>\n",
       "    <tr>\n",
       "      <th>2</th>\n",
       "      <td>-0.200595</td>\n",
       "      <td>0.153312</td>\n",
       "      <td>-0.317551</td>\n",
       "      <td>0.219671</td>\n",
       "      <td>-0.765338</td>\n",
       "    </tr>\n",
       "    <tr>\n",
       "      <th>3</th>\n",
       "      <td>-1.038868</td>\n",
       "      <td>-1.311999</td>\n",
       "      <td>-1.946768</td>\n",
       "      <td>-0.460218</td>\n",
       "      <td>-0.484950</td>\n",
       "    </tr>\n",
       "    <tr>\n",
       "      <th>4</th>\n",
       "      <td>1.736747</td>\n",
       "      <td>0.666170</td>\n",
       "      <td>0.945093</td>\n",
       "      <td>1.866512</td>\n",
       "      <td>-1.160977</td>\n",
       "    </tr>\n",
       "    <tr>\n",
       "      <th>...</th>\n",
       "      <td>...</td>\n",
       "      <td>...</td>\n",
       "      <td>...</td>\n",
       "      <td>...</td>\n",
       "      <td>...</td>\n",
       "    </tr>\n",
       "    <tr>\n",
       "      <th>208</th>\n",
       "      <td>1.252411</td>\n",
       "      <td>1.435458</td>\n",
       "      <td>1.528896</td>\n",
       "      <td>1.428362</td>\n",
       "      <td>2.105624</td>\n",
       "    </tr>\n",
       "    <tr>\n",
       "      <th>209</th>\n",
       "      <td>-0.852585</td>\n",
       "      <td>-0.579344</td>\n",
       "      <td>0.768594</td>\n",
       "      <td>0.144128</td>\n",
       "      <td>-1.484368</td>\n",
       "    </tr>\n",
       "    <tr>\n",
       "      <th>210</th>\n",
       "      <td>-0.014312</td>\n",
       "      <td>0.061730</td>\n",
       "      <td>0.904362</td>\n",
       "      <td>-0.989020</td>\n",
       "      <td>1.285103</td>\n",
       "    </tr>\n",
       "    <tr>\n",
       "      <th>211</th>\n",
       "      <td>0.637678</td>\n",
       "      <td>-0.029852</td>\n",
       "      <td>-1.132160</td>\n",
       "      <td>-0.158045</td>\n",
       "      <td>-0.347337</td>\n",
       "    </tr>\n",
       "    <tr>\n",
       "      <th>212</th>\n",
       "      <td>-0.480020</td>\n",
       "      <td>-0.762507</td>\n",
       "      <td>-1.811000</td>\n",
       "      <td>1.277275</td>\n",
       "      <td>-0.349057</td>\n",
       "    </tr>\n",
       "  </tbody>\n",
       "</table>\n",
       "<p>213 rows × 5 columns</p>\n",
       "</div>"
      ],
      "text/plain": [
       "      SSC_Per   HSC_Per  Degree_Per  Entrance_Perc   MBA_Per\n",
       "0   -0.014312  2.259695   -1.132160      -1.291192 -0.593321\n",
       "1    1.134122  1.099352    1.512604       1.088418  0.693365\n",
       "2   -0.200595  0.153312   -0.317551       0.219671 -0.765338\n",
       "3   -1.038868 -1.311999   -1.946768      -0.460218 -0.484950\n",
       "4    1.736747  0.666170    0.945093       1.866512 -1.160977\n",
       "..        ...       ...         ...            ...       ...\n",
       "208  1.252411  1.435458    1.528896       1.428362  2.105624\n",
       "209 -0.852585 -0.579344    0.768594       0.144128 -1.484368\n",
       "210 -0.014312  0.061730    0.904362      -0.989020  1.285103\n",
       "211  0.637678 -0.029852   -1.132160      -0.158045 -0.347337\n",
       "212 -0.480020 -0.762507   -1.811000       1.277275 -0.349057\n",
       "\n",
       "[213 rows x 5 columns]"
      ]
     },
     "execution_count": 8,
     "metadata": {},
     "output_type": "execute_result"
    }
   ],
   "source": [
    "df[num]"
   ]
  },
  {
   "cell_type": "code",
   "execution_count": 9,
   "id": "723ac66a",
   "metadata": {},
   "outputs": [],
   "source": [
    "# Labelling Placed and Not Placed as 1 and 0 in Status column and changing dtype to integer:\n",
    "\n",
    "df[\"Status\"] = df[\"Status\"].replace([\"Placed\",\"Not Placed\"],['1','0'])\n",
    "\n",
    "df[\"Status\"] = df[\"Status\"].astype('int64')"
   ]
  },
  {
   "cell_type": "code",
   "execution_count": 10,
   "id": "f1256199",
   "metadata": {},
   "outputs": [],
   "source": [
    "# Encoding other Categorical columns using One Hot Encoding:\n",
    "\n",
    "df = pd.get_dummies(data = df, columns = cat, drop_first = True)"
   ]
  },
  {
   "cell_type": "code",
   "execution_count": 11,
   "id": "651fb09c",
   "metadata": {},
   "outputs": [
    {
     "data": {
      "text/html": [
       "<div>\n",
       "<style scoped>\n",
       "    .dataframe tbody tr th:only-of-type {\n",
       "        vertical-align: middle;\n",
       "    }\n",
       "\n",
       "    .dataframe tbody tr th {\n",
       "        vertical-align: top;\n",
       "    }\n",
       "\n",
       "    .dataframe thead th {\n",
       "        text-align: right;\n",
       "    }\n",
       "</style>\n",
       "<table border=\"1\" class=\"dataframe\">\n",
       "  <thead>\n",
       "    <tr style=\"text-align: right;\">\n",
       "      <th></th>\n",
       "      <th>SSC_Per</th>\n",
       "      <th>HSC_Per</th>\n",
       "      <th>Degree_Per</th>\n",
       "      <th>Entrance_Perc</th>\n",
       "      <th>MBA_Per</th>\n",
       "      <th>Status</th>\n",
       "      <th>Salary</th>\n",
       "      <th>Gender_M</th>\n",
       "      <th>SSC_Board_Others</th>\n",
       "      <th>HSC_Board_Others</th>\n",
       "      <th>HSC_Stream_Commerce</th>\n",
       "      <th>HSC_Stream_Science</th>\n",
       "      <th>Degree_Stream_Others</th>\n",
       "      <th>Degree_Stream_Sci&amp;Tech</th>\n",
       "      <th>Work_Exp_Yes</th>\n",
       "      <th>Specialisation_Mkt&amp;HR</th>\n",
       "    </tr>\n",
       "  </thead>\n",
       "  <tbody>\n",
       "    <tr>\n",
       "      <th>0</th>\n",
       "      <td>-0.014312</td>\n",
       "      <td>2.259695</td>\n",
       "      <td>-1.132160</td>\n",
       "      <td>-1.291192</td>\n",
       "      <td>-0.593321</td>\n",
       "      <td>1</td>\n",
       "      <td>270000</td>\n",
       "      <td>1</td>\n",
       "      <td>1</td>\n",
       "      <td>1</td>\n",
       "      <td>1</td>\n",
       "      <td>0</td>\n",
       "      <td>0</td>\n",
       "      <td>1</td>\n",
       "      <td>0</td>\n",
       "      <td>1</td>\n",
       "    </tr>\n",
       "    <tr>\n",
       "      <th>1</th>\n",
       "      <td>1.134122</td>\n",
       "      <td>1.099352</td>\n",
       "      <td>1.512604</td>\n",
       "      <td>1.088418</td>\n",
       "      <td>0.693365</td>\n",
       "      <td>1</td>\n",
       "      <td>200000</td>\n",
       "      <td>1</td>\n",
       "      <td>0</td>\n",
       "      <td>1</td>\n",
       "      <td>0</td>\n",
       "      <td>1</td>\n",
       "      <td>0</td>\n",
       "      <td>1</td>\n",
       "      <td>1</td>\n",
       "      <td>0</td>\n",
       "    </tr>\n",
       "    <tr>\n",
       "      <th>2</th>\n",
       "      <td>-0.200595</td>\n",
       "      <td>0.153312</td>\n",
       "      <td>-0.317551</td>\n",
       "      <td>0.219671</td>\n",
       "      <td>-0.765338</td>\n",
       "      <td>1</td>\n",
       "      <td>250000</td>\n",
       "      <td>1</td>\n",
       "      <td>0</td>\n",
       "      <td>0</td>\n",
       "      <td>0</td>\n",
       "      <td>0</td>\n",
       "      <td>0</td>\n",
       "      <td>0</td>\n",
       "      <td>0</td>\n",
       "      <td>0</td>\n",
       "    </tr>\n",
       "    <tr>\n",
       "      <th>3</th>\n",
       "      <td>-1.038868</td>\n",
       "      <td>-1.311999</td>\n",
       "      <td>-1.946768</td>\n",
       "      <td>-0.460218</td>\n",
       "      <td>-0.484950</td>\n",
       "      <td>0</td>\n",
       "      <td>0</td>\n",
       "      <td>1</td>\n",
       "      <td>0</td>\n",
       "      <td>0</td>\n",
       "      <td>0</td>\n",
       "      <td>1</td>\n",
       "      <td>0</td>\n",
       "      <td>1</td>\n",
       "      <td>0</td>\n",
       "      <td>1</td>\n",
       "    </tr>\n",
       "    <tr>\n",
       "      <th>4</th>\n",
       "      <td>1.736747</td>\n",
       "      <td>0.666170</td>\n",
       "      <td>0.945093</td>\n",
       "      <td>1.866512</td>\n",
       "      <td>-1.160977</td>\n",
       "      <td>1</td>\n",
       "      <td>425000</td>\n",
       "      <td>1</td>\n",
       "      <td>0</td>\n",
       "      <td>0</td>\n",
       "      <td>1</td>\n",
       "      <td>0</td>\n",
       "      <td>0</td>\n",
       "      <td>0</td>\n",
       "      <td>0</td>\n",
       "      <td>0</td>\n",
       "    </tr>\n",
       "  </tbody>\n",
       "</table>\n",
       "</div>"
      ],
      "text/plain": [
       "    SSC_Per   HSC_Per  Degree_Per  Entrance_Perc   MBA_Per  Status  Salary  \\\n",
       "0 -0.014312  2.259695   -1.132160      -1.291192 -0.593321       1  270000   \n",
       "1  1.134122  1.099352    1.512604       1.088418  0.693365       1  200000   \n",
       "2 -0.200595  0.153312   -0.317551       0.219671 -0.765338       1  250000   \n",
       "3 -1.038868 -1.311999   -1.946768      -0.460218 -0.484950       0       0   \n",
       "4  1.736747  0.666170    0.945093       1.866512 -1.160977       1  425000   \n",
       "\n",
       "   Gender_M  SSC_Board_Others  HSC_Board_Others  HSC_Stream_Commerce  \\\n",
       "0         1                 1                 1                    1   \n",
       "1         1                 0                 1                    0   \n",
       "2         1                 0                 0                    0   \n",
       "3         1                 0                 0                    0   \n",
       "4         1                 0                 0                    1   \n",
       "\n",
       "   HSC_Stream_Science  Degree_Stream_Others  Degree_Stream_Sci&Tech  \\\n",
       "0                   0                     0                       1   \n",
       "1                   1                     0                       1   \n",
       "2                   0                     0                       0   \n",
       "3                   1                     0                       1   \n",
       "4                   0                     0                       0   \n",
       "\n",
       "   Work_Exp_Yes  Specialisation_Mkt&HR  \n",
       "0             0                      1  \n",
       "1             1                      0  \n",
       "2             0                      0  \n",
       "3             0                      1  \n",
       "4             0                      0  "
      ]
     },
     "execution_count": 11,
     "metadata": {},
     "output_type": "execute_result"
    }
   ],
   "source": [
    "df.head()"
   ]
  },
  {
   "cell_type": "markdown",
   "id": "2c4dbe10",
   "metadata": {},
   "source": [
    "# Creating Linear Regression model to predict the Salary of the people and doing analysis on the same:"
   ]
  },
  {
   "cell_type": "code",
   "execution_count": 13,
   "id": "a4e40b9f",
   "metadata": {},
   "outputs": [],
   "source": [
    "# Assigning LinearRegression model to an Object named lr:\n",
    "\n",
    "lr = LinearRegression()"
   ]
  },
  {
   "cell_type": "code",
   "execution_count": 15,
   "id": "276beb8e",
   "metadata": {},
   "outputs": [],
   "source": [
    "# Splitting the Data into Features and Labels:\n",
    "# Removing Status column also from features as it can create biasness in salary prediction:\n",
    "\n",
    "X = df.drop([\"Salary\",\"Status\"], axis = 1)\n",
    "Y = df[\"Salary\"]"
   ]
  },
  {
   "cell_type": "code",
   "execution_count": 17,
   "id": "395c6230",
   "metadata": {},
   "outputs": [],
   "source": [
    "# Splitting the Features and Labels into Training and Testing Datasets:\n",
    "\n",
    "Xtr, Xts, Ytr, Yts = train_test_split(X,Y, test_size = 0.3)"
   ]
  },
  {
   "cell_type": "code",
   "execution_count": 18,
   "id": "02fc932b",
   "metadata": {},
   "outputs": [
    {
     "data": {
      "text/plain": [
       "LinearRegression()"
      ]
     },
     "execution_count": 18,
     "metadata": {},
     "output_type": "execute_result"
    }
   ],
   "source": [
    "# Training the Model on the Training dataset:\n",
    "\n",
    "lr.fit(Xtr,Ytr)"
   ]
  },
  {
   "cell_type": "code",
   "execution_count": 19,
   "id": "936a746c",
   "metadata": {},
   "outputs": [],
   "source": [
    "# Predicting the Salary of Testing dataset:\n",
    "\n",
    "Ypred = lr.predict(Xts)"
   ]
  },
  {
   "cell_type": "code",
   "execution_count": 76,
   "id": "f15f79fe",
   "metadata": {},
   "outputs": [
    {
     "data": {
      "text/plain": [
       "96.0"
      ]
     },
     "execution_count": 76,
     "metadata": {},
     "output_type": "execute_result"
    }
   ],
   "source": [
    "# Checking for R2 score of the model:\n",
    "\n",
    "metrics.r2_score(Yts,Ypred)\n",
    "\n",
    "# Around 96% R2 score."
   ]
  },
  {
   "cell_type": "code",
   "execution_count": 33,
   "id": "74a54f08",
   "metadata": {},
   "outputs": [
    {
     "data": {
      "text/plain": [
       "1.0"
      ]
     },
     "execution_count": 33,
     "metadata": {},
     "output_type": "execute_result"
    }
   ],
   "source": [
    "lr.score(Xts,Ypred)"
   ]
  },
  {
   "cell_type": "code",
   "execution_count": 77,
   "id": "67c19c1a",
   "metadata": {},
   "outputs": [
    {
     "data": {
      "text/plain": [
       "96.0"
      ]
     },
     "execution_count": 77,
     "metadata": {},
     "output_type": "execute_result"
    }
   ],
   "source": [
    "lr.score(Xts,Yts)"
   ]
  },
  {
   "cell_type": "markdown",
   "id": "b540d906",
   "metadata": {},
   "source": [
    "# Creating Logistic Regression model to predict the Employment Status of the people and doing analysis on the same:"
   ]
  },
  {
   "cell_type": "code",
   "execution_count": 40,
   "id": "04050016",
   "metadata": {},
   "outputs": [],
   "source": [
    "# Assigning LogisticRegression model to an Object named lgr:\n",
    "\n",
    "lgr = LogisticRegression()"
   ]
  },
  {
   "cell_type": "code",
   "execution_count": 41,
   "id": "46a43ec3",
   "metadata": {},
   "outputs": [],
   "source": [
    "# Splitting the Data into Features and Labels:\n",
    "# Removing Salary column also from features as it can create biasness in status prediction:\n",
    "\n",
    "x = df.drop([\"Salary\",\"Status\"],axis = 1)\n",
    "y = df[\"Status\"]"
   ]
  },
  {
   "cell_type": "code",
   "execution_count": 42,
   "id": "dcbec1db",
   "metadata": {},
   "outputs": [],
   "source": [
    "# Splitting the Features and Labels into Training and Testing Datasets:\n",
    "\n",
    "xtr, xts, ytr, yts = train_test_split(x,y, test_size = 0.3)"
   ]
  },
  {
   "cell_type": "code",
   "execution_count": 43,
   "id": "de93bd9b",
   "metadata": {},
   "outputs": [
    {
     "data": {
      "text/plain": [
       "LogisticRegression()"
      ]
     },
     "execution_count": 43,
     "metadata": {},
     "output_type": "execute_result"
    }
   ],
   "source": [
    "# Training the Model on the Training dataset:\n",
    "\n",
    "lgr.fit(xtr,ytr)"
   ]
  },
  {
   "cell_type": "code",
   "execution_count": 46,
   "id": "6219ed36",
   "metadata": {},
   "outputs": [],
   "source": [
    "# Predicting the Status of Testing dataset:\n",
    "\n",
    "ypred = lgr.predict(xts)"
   ]
  },
  {
   "cell_type": "code",
   "execution_count": 50,
   "id": "e52c77ad",
   "metadata": {},
   "outputs": [
    {
     "data": {
      "text/plain": [
       "0.84375"
      ]
     },
     "execution_count": 50,
     "metadata": {},
     "output_type": "execute_result"
    }
   ],
   "source": [
    "# Checking for Accuracy score of the model:\n",
    "\n",
    "metrics.accuracy_score(yts,ypred)\n",
    "\n",
    "# Around 84% Accuracy score."
   ]
  },
  {
   "cell_type": "code",
   "execution_count": 47,
   "id": "4e3b3b7c",
   "metadata": {},
   "outputs": [
    {
     "data": {
      "text/plain": [
       "0.84375"
      ]
     },
     "execution_count": 47,
     "metadata": {},
     "output_type": "execute_result"
    }
   ],
   "source": [
    "lgr.score(xts,yts)"
   ]
  },
  {
   "cell_type": "code",
   "execution_count": 48,
   "id": "4ab1601b",
   "metadata": {},
   "outputs": [
    {
     "data": {
      "text/plain": [
       "1.0"
      ]
     },
     "execution_count": 48,
     "metadata": {},
     "output_type": "execute_result"
    }
   ],
   "source": [
    "lgr.score(xts,ypred)"
   ]
  },
  {
   "cell_type": "code",
   "execution_count": 81,
   "id": "52ee6f35",
   "metadata": {},
   "outputs": [
    {
     "data": {
      "text/plain": [
       "<AxesSubplot:>"
      ]
     },
     "execution_count": 81,
     "metadata": {},
     "output_type": "execute_result"
    },
    {
     "data": {
      "image/png": "[encoded data removed]",
      "text/plain": [
       "<Figure size 640x480 with 2 Axes>"
      ]
     },
     "metadata": {},
     "output_type": "display_data"
    }
   ],
   "source": [
    "# Plotting heatmap to check values of confusion matrix (TP,FP,FN,TN):\n",
    "\n",
    "sns.heatmap(metrics.confusion_matrix(yts,ypred),annot = True)"
   ]
  },
  {
   "cell_type": "code",
   "execution_count": 82,
   "id": "cf789b1a",
   "metadata": {},
   "outputs": [
    {
     "name": "stdout",
     "output_type": "stream",
     "text": [
      "              precision    recall  f1-score   support\n",
      "\n",
      "           0       0.85      0.79      0.81        28\n",
      "           1       0.84      0.89      0.86        36\n",
      "\n",
      "    accuracy                           0.84        64\n",
      "   macro avg       0.84      0.84      0.84        64\n",
      "weighted avg       0.84      0.84      0.84        64\n",
      "\n"
     ]
    }
   ],
   "source": [
    "# Printing Classification report of the model:\n",
    "\n",
    "print(metrics.classification_report(yts,ypred))"
   ]
  },
  {
   "cell_type": "markdown",
   "id": "20e5124f",
   "metadata": {},
   "source": [
    "# Creating Decision Tree model to predict the Employment Status of the people and doing analysis on the same:"
   ]
  },
  {
   "cell_type": "code",
   "execution_count": null,
   "id": "917bb706",
   "metadata": {},
   "outputs": [],
   "source": [
    "# Assigning Decision Tree model to an Object named dt:"
   ]
  },
  {
   "cell_type": "code",
   "execution_count": 52,
   "id": "917e78a6",
   "metadata": {},
   "outputs": [],
   "source": [
    "dt = DecisionTreeClassifier()"
   ]
  },
  {
   "cell_type": "code",
   "execution_count": 53,
   "id": "143bbe7e",
   "metadata": {},
   "outputs": [
    {
     "data": {
      "text/plain": [
       "DecisionTreeClassifier()"
      ]
     },
     "execution_count": 53,
     "metadata": {},
     "output_type": "execute_result"
    }
   ],
   "source": [
    "# Using previously splitted testing and training data as it's same:\n",
    "\n",
    "dt.fit(xtr,ytr)"
   ]
  },
  {
   "cell_type": "code",
   "execution_count": 54,
   "id": "036c7a86",
   "metadata": {},
   "outputs": [],
   "source": [
    "# Predicting the Status of Testing dataset:\n",
    "\n",
    "ypred2 = dt.predict(xts)"
   ]
  },
  {
   "cell_type": "code",
   "execution_count": 55,
   "id": "8e318300",
   "metadata": {},
   "outputs": [
    {
     "data": {
      "text/plain": [
       "0.71875"
      ]
     },
     "execution_count": 55,
     "metadata": {},
     "output_type": "execute_result"
    }
   ],
   "source": [
    "# Checking for Accuracy score of the model:\n",
    "\n",
    "metrics.accuracy_score(yts,ypred2)\n",
    "\n",
    "# Around 72% Accuracy score."
   ]
  },
  {
   "cell_type": "code",
   "execution_count": 56,
   "id": "bafca262",
   "metadata": {},
   "outputs": [
    {
     "data": {
      "text/plain": [
       "0.71875"
      ]
     },
     "execution_count": 56,
     "metadata": {},
     "output_type": "execute_result"
    }
   ],
   "source": [
    "dt.score(xts,yts)"
   ]
  },
  {
   "cell_type": "code",
   "execution_count": 57,
   "id": "82771872",
   "metadata": {},
   "outputs": [
    {
     "data": {
      "text/plain": [
       "0.8125"
      ]
     },
     "execution_count": 57,
     "metadata": {},
     "output_type": "execute_result"
    }
   ],
   "source": [
    "dt.score(xts,ypred)"
   ]
  },
  {
   "cell_type": "code",
   "execution_count": 60,
   "id": "b0d9da8a",
   "metadata": {},
   "outputs": [
    {
     "name": "stdout",
     "output_type": "stream",
     "text": [
      "              precision    recall  f1-score   support\n",
      "\n",
      "           0       0.71      0.61      0.65        28\n",
      "           1       0.72      0.81      0.76        36\n",
      "\n",
      "    accuracy                           0.72        64\n",
      "   macro avg       0.72      0.71      0.71        64\n",
      "weighted avg       0.72      0.72      0.72        64\n",
      "\n"
     ]
    }
   ],
   "source": [
    "# Printing Classification report of the model:\n",
    "\n",
    "print(metrics.classification_report(yts,ypred2))"
   ]
  },
  {
   "cell_type": "code",
   "execution_count": 61,
   "id": "37c1c319",
   "metadata": {},
   "outputs": [
    {
     "data": {
      "text/plain": [
       "<AxesSubplot:>"
      ]
     },
     "execution_count": 61,
     "metadata": {},
     "output_type": "execute_result"
    },
    {
     "data": {
      "image/png": "[encoded data removed]",
      "text/plain": [
       "<Figure size 640x480 with 2 Axes>"
      ]
     },
     "metadata": {},
     "output_type": "display_data"
    }
   ],
   "source": [
    "# Plotting heatmap to check values of confusion matrix (TP,FP,FN,TN):\n",
    "\n",
    "sns.heatmap(metrics.confusion_matrix(yts,ypred2),annot = True)"
   ]
  },
  {
   "cell_type": "markdown",
   "id": "50aec18a",
   "metadata": {},
   "source": [
    "# Creating Random Forest model to predict the Employment Status of the people and doing analysis on the same:"
   ]
  },
  {
   "cell_type": "code",
   "execution_count": 63,
   "id": "33fae675",
   "metadata": {},
   "outputs": [],
   "source": [
    "# Assigning Random Forest model to an Object named rf:\n",
    "\n",
    "rf = RandomForestClassifier()"
   ]
  },
  {
   "cell_type": "code",
   "execution_count": 64,
   "id": "952f0782",
   "metadata": {},
   "outputs": [
    {
     "data": {
      "text/plain": [
       "RandomForestClassifier()"
      ]
     },
     "execution_count": 64,
     "metadata": {},
     "output_type": "execute_result"
    }
   ],
   "source": [
    "# Using previously splitted testing and training data as it's same:\n",
    "\n",
    "rf.fit(xtr,ytr)"
   ]
  },
  {
   "cell_type": "code",
   "execution_count": 65,
   "id": "69125747",
   "metadata": {},
   "outputs": [],
   "source": [
    "# Predicting the Status of Testing dataset:\n",
    "\n",
    "ypred3 = rf.predict(xts)"
   ]
  },
  {
   "cell_type": "code",
   "execution_count": 67,
   "id": "c476bd58",
   "metadata": {},
   "outputs": [
    {
     "data": {
      "text/plain": [
       "0.796875"
      ]
     },
     "execution_count": 67,
     "metadata": {},
     "output_type": "execute_result"
    }
   ],
   "source": [
    "# Checking for Accuracy score of the model:\n",
    "\n",
    "metrics.accuracy_score(yts,ypred3)\n",
    "\n",
    "# Around 80% Accuracy score."
   ]
  },
  {
   "cell_type": "code",
   "execution_count": 70,
   "id": "c92cc23e",
   "metadata": {},
   "outputs": [
    {
     "data": {
      "text/plain": [
       "0.71875"
      ]
     },
     "execution_count": 70,
     "metadata": {},
     "output_type": "execute_result"
    }
   ],
   "source": [
    "dt.score(xts,yts)"
   ]
  },
  {
   "cell_type": "code",
   "execution_count": 71,
   "id": "9fc8e19c",
   "metadata": {},
   "outputs": [
    {
     "data": {
      "text/plain": [
       "0.828125"
      ]
     },
     "execution_count": 71,
     "metadata": {},
     "output_type": "execute_result"
    }
   ],
   "source": [
    "dt.score(xts,ypred3)"
   ]
  },
  {
   "cell_type": "code",
   "execution_count": 69,
   "id": "f3955a02",
   "metadata": {},
   "outputs": [
    {
     "data": {
      "text/plain": [
       "<AxesSubplot:>"
      ]
     },
     "execution_count": 69,
     "metadata": {},
     "output_type": "execute_result"
    },
    {
     "data": {
      "image/png": "[encoded data removed]",
      "text/plain": [
       "<Figure size 640x480 with 2 Axes>"
      ]
     },
     "metadata": {},
     "output_type": "display_data"
    }
   ],
   "source": [
    "# Plotting heatmap to check values of confusion matrix (TP,FP,FN,TN):\n",
    "\n",
    "sns.heatmap(metrics.confusion_matrix(yts,ypred3),annot = True)"
   ]
  },
  {
   "cell_type": "code",
   "execution_count": 83,
   "id": "74881812",
   "metadata": {},
   "outputs": [
    {
     "name": "stdout",
     "output_type": "stream",
     "text": [
      "              precision    recall  f1-score   support\n",
      "\n",
      "           0       0.89      0.61      0.72        28\n",
      "           1       0.76      0.94      0.84        36\n",
      "\n",
      "    accuracy                           0.80        64\n",
      "   macro avg       0.83      0.78      0.78        64\n",
      "weighted avg       0.82      0.80      0.79        64\n",
      "\n"
     ]
    }
   ],
   "source": [
    "# Printing Classification report of the model:\n",
    "\n",
    "print(metrics.classification_report(yts,ypred3))"
   ]
  },
  {
   "cell_type": "markdown",
   "id": "75b8ecc8",
   "metadata": {},
   "source": [
    "# Conclusion:"
   ]
  },
  {
   "cell_type": "markdown",
   "id": "2fc531a5",
   "metadata": {},
   "source": [
    "#### 1. Linear Regression Model is suitable for Predicting Salary as the R2 Score is found around 96%, when tested, which is suitable."
   ]
  },
  {
   "cell_type": "markdown",
   "id": "e3250fd3",
   "metadata": {},
   "source": [
    "#### 2. For Predicting the Employement Status, Logistic Regression Model is better as it shows the highest accuracy, around 84%.  TPR is also higher (22), compared to others (having 17)."
   ]
  },
  {
   "cell_type": "code",
   "execution_count": 78,
   "id": "82bce2f5",
   "metadata": {},
   "outputs": [
    {
     "data": {
      "text/plain": [
       "0.84375"
      ]
     },
     "execution_count": 78,
     "metadata": {},
     "output_type": "execute_result"
    }
   ],
   "source": [
    "# Accuracy of Logistic Regression Model:\n",
    "\n",
    "metrics.accuracy_score(yts,ypred)"
   ]
  },
  {
   "cell_type": "code",
   "execution_count": 79,
   "id": "d8e6b021",
   "metadata": {},
   "outputs": [
    {
     "data": {
      "text/plain": [
       "0.71875"
      ]
     },
     "execution_count": 79,
     "metadata": {},
     "output_type": "execute_result"
    }
   ],
   "source": [
    "# Accuracy of Decision Tree Model:\n",
    "\n",
    "metrics.accuracy_score(yts,ypred2)"
   ]
  },
  {
   "cell_type": "code",
   "execution_count": 80,
   "id": "b4f6610a",
   "metadata": {},
   "outputs": [
    {
     "data": {
      "text/plain": [
       "0.796875"
      ]
     },
     "execution_count": 80,
     "metadata": {},
     "output_type": "execute_result"
    }
   ],
   "source": [
    "# Accuracy of Random Forest Model:\n",
    "\n",
    "metrics.accuracy_score(yts,ypred3)"
   ]
  },
  {
   "cell_type": "code",
   "execution_count": null,
   "id": "cc23ff3b",
   "metadata": {},
   "outputs": [],
   "source": []
  }
 ],
 "metadata": {
  "kernelspec": {
   "display_name": "Python 3 (ipykernel)",
   "language": "python",
   "name": "python3"
  },
  "language_info": {
   "codemirror_mode": {
    "name": "ipython",
    "version": 3
   },
   "file_extension": ".py",
   "mimetype": "text/x-python",
   "name": "python",
   "nbconvert_exporter": "python",
   "pygments_lexer": "ipython3",
   "version": "3.9.13"
  }
 },
 "nbformat": 4,
 "nbformat_minor": 5
}
